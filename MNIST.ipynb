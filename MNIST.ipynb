{
 "cells": [
  {
   "cell_type": "markdown",
   "id": "3c9210a7-ead7-4c58-a174-299a6530435c",
   "metadata": {},
   "source": [
    "<h1><strong>Handwritten Digit Classification Using MNIST Dataset</strong></h1>"
   ]
  },
  {
   "cell_type": "markdown",
   "id": "e006c4aa-d253-4123-aa51-fda5049183c4",
   "metadata": {},
   "source": [
    "1) <strong>Load the MNIST Dataset</strong>"
   ]
  },
  {
   "cell_type": "code",
   "execution_count": 449,
   "id": "7d1fab4b-b80c-4ff7-9c45-208226baa4b3",
   "metadata": {},
   "outputs": [],
   "source": [
    "import tensorflow as tf"
   ]
  },
  {
   "cell_type": "code",
   "execution_count": 450,
   "id": "6ff9b453-3639-4afc-bca7-c386f2e842d1",
   "metadata": {},
   "outputs": [],
   "source": [
    "(x_train, y_train), (x_test, y_test) = tf.keras.datasets.mnist.load_data()"
   ]
  },
  {
   "cell_type": "markdown",
   "id": "f8191f91-47a6-419c-94c8-6487174c1d57",
   "metadata": {},
   "source": [
    "2) <strong>Visualize the data</strong>"
   ]
  },
  {
   "cell_type": "code",
   "execution_count": 451,
   "id": "d90a8221-571f-4a2a-b8fe-9c3452b613c3",
   "metadata": {},
   "outputs": [
    {
     "name": "stdout",
     "output_type": "stream",
     "text": [
      "<class 'numpy.ndarray'>\n",
      "(60000, 28, 28)\n",
      "(10000, 28, 28)\n"
     ]
    }
   ],
   "source": [
    "print(type(x_train))\n",
    "\n",
    "print(x_train.shape)\n",
    "print(x_test.shape)"
   ]
  },
  {
   "cell_type": "code",
   "execution_count": 452,
   "id": "6fab05f3-7170-4c52-9144-9b4177fdbb79",
   "metadata": {},
   "outputs": [],
   "source": [
    "import matplotlib.pyplot as plt"
   ]
  },
  {
   "cell_type": "code",
   "execution_count": 453,
   "id": "71787a2c-9045-4a59-8b5f-6f784bd042c4",
   "metadata": {},
   "outputs": [
    {
     "name": "stdout",
     "output_type": "stream",
     "text": [
      "Label: 4\n"
     ]
    },
    {
     "data": {
      "image/png": "[encoded data removed]",
      "text/plain": [
       "<Figure size 640x480 with 1 Axes>"
      ]
     },
     "metadata": {},
     "output_type": "display_data"
    }
   ],
   "source": [
    "plt.imshow(x_train[20], cmap='gray')\n",
    "print(f\"Label: {y_train[20]}\")"
   ]
  },
  {
   "cell_type": "markdown",
   "id": "c25bf38e-bb9b-441c-968f-0e196d66cf39",
   "metadata": {},
   "source": [
    "3) <strong>Split the training data into training and validation</strong>"
   ]
  },
  {
   "cell_type": "code",
   "execution_count": 454,
   "id": "6135a501-eca4-492a-ad23-f0eb08ccfed7",
   "metadata": {},
   "outputs": [],
   "source": [
    "from sklearn.model_selection import train_test_split"
   ]
  },
  {
   "cell_type": "code",
   "execution_count": 455,
   "id": "92a2f004-26be-4e91-9e79-196d63759810",
   "metadata": {},
   "outputs": [],
   "source": [
    "x_train, x_val, y_train, y_val = train_test_split(x_train, y_train, test_size=0.2)"
   ]
  },
  {
   "cell_type": "code",
   "execution_count": 456,
   "id": "e473b621-b391-4df6-bfca-c51baeeaf2b0",
   "metadata": {},
   "outputs": [
    {
     "name": "stdout",
     "output_type": "stream",
     "text": [
      "(48000, 28, 28)\n",
      "(12000, 28, 28)\n"
     ]
    }
   ],
   "source": [
    "print(x_train.shape)\n",
    "print(x_val.shape)"
   ]
  },
  {
   "cell_type": "markdown",
   "id": "da85e15b-dc1e-4e59-b279-08ed77411768",
   "metadata": {},
   "source": [
    "4) <strong>Flatten the last two dimensions</strong>"
   ]
  },
  {
   "cell_type": "markdown",
   "id": "891c6c4b-3b0c-4cf2-9455-61ad746ad0f4",
   "metadata": {},
   "source": [
    "Original shape: (\\_, 28, 28)   New shape: (\\_, 28x28) = (_, 784)"
   ]
  },
  {
   "cell_type": "code",
   "execution_count": 457,
   "id": "44a7a9aa-cf48-4d75-ab98-b281fc400fd5",
   "metadata": {},
   "outputs": [],
   "source": [
    "x_train = x_train.reshape((x_train.shape[0], -1))\n",
    "x_val = x_val.reshape((x_val.shape[0], -1))"
   ]
  },
  {
   "cell_type": "code",
   "execution_count": 458,
   "id": "036ae142-c051-476c-a63b-a72fae320373",
   "metadata": {},
   "outputs": [
    {
     "name": "stdout",
     "output_type": "stream",
     "text": [
      "(48000, 784)\n",
      "(12000, 784)\n"
     ]
    }
   ],
   "source": [
    "print(x_train.shape)\n",
    "print(x_val.shape)"
   ]
  },
  {
   "cell_type": "markdown",
   "id": "76bcd8c3-8d4b-4282-a38d-1d6d29eaf697",
   "metadata": {},
   "source": [
    "5) <strong>Feature Scaling</strong>"
   ]
  },
  {
   "cell_type": "code",
   "execution_count": 459,
   "id": "d635226e-1436-4f22-94eb-d8bdb61cc311",
   "metadata": {},
   "outputs": [],
   "source": [
    "norm_l = tf.keras.layers.Normalization(axis=-1)\n",
    "norm_l.adapt(x_train)\n",
    "x_train_scaled = norm_l(x_train)\n",
    "x_val_scaled = norm_l(x_val)"
   ]
  },
  {
   "cell_type": "code",
   "execution_count": 460,
   "id": "87ed1e77-33ed-4753-9c5d-5826ba84f269",
   "metadata": {},
   "outputs": [
    {
     "name": "stdout",
     "output_type": "stream",
     "text": [
      "tf.Tensor(\n",
      "[ 0.00000000e+00  0.00000000e+00  0.00000000e+00  0.00000000e+00\n",
      "  0.00000000e+00  0.00000000e+00  0.00000000e+00  0.00000000e+00\n",
      "  0.00000000e+00  0.00000000e+00  0.00000000e+00  0.00000000e+00\n",
      " -4.93960222e-03 -6.43413141e-03 -4.56442218e-03 -4.56441659e-03\n",
      "  0.00000000e+00  0.00000000e+00  0.00000000e+00  0.00000000e+00\n",
      "  0.00000000e+00  0.00000000e+00  0.00000000e+00  0.00000000e+00\n",
      "  0.00000000e+00  0.00000000e+00  0.00000000e+00  0.00000000e+00\n",
      "  0.00000000e+00  0.00000000e+00  0.00000000e+00  0.00000000e+00\n",
      " -4.56443988e-03 -5.26563590e-03 -8.96097999e-03 -1.18385386e-02\n",
      " -1.57573391e-02 -2.01821811e-02 -2.57051662e-02 -2.91365981e-02\n",
      " -2.92633548e-02 -3.04310340e-02 -3.24568935e-02 -3.04464381e-02\n",
      " -3.24599370e-02 -3.01376153e-02 -2.42246334e-02 -1.96609553e-02\n",
      " -1.75863449e-02 -1.14440834e-02 -8.25610571e-03 -4.56441892e-03\n",
      "  0.00000000e+00  0.00000000e+00  0.00000000e+00  0.00000000e+00\n",
      "  0.00000000e+00  0.00000000e+00 -4.56442451e-03 -4.56443569e-03\n",
      " -9.31157451e-03 -1.17886122e-02 -1.74205378e-02 -2.81478260e-02\n",
      " -3.84219512e-02 -5.25618978e-02 -6.80125728e-02 -8.39957818e-02\n",
      " -1.00194730e-01 -1.15239948e-01 -1.29592136e-01 -1.39274687e-01\n",
      " -1.39574155e-01 -1.32610828e-01 -1.21261418e-01 -1.02357581e-01\n",
      " -7.86240324e-02 -5.74407801e-02 -4.02399674e-02 -2.41197776e-02\n",
      " -1.47743281e-02 -8.75519402e-03  0.00000000e+00  0.00000000e+00\n",
      "  0.00000000e+00  0.00000000e+00 -6.00208901e-03 -7.57490285e-03\n",
      " -1.38291353e-02 -2.12503821e-02 -3.48130949e-02 -5.52083850e-02\n",
      " -7.99653977e-02 -1.07769459e-01 -1.36263445e-01 -1.66557521e-01\n",
      " -1.95748016e-01 -2.24458650e-01 -2.48887584e-01 -2.62248337e-01\n",
      " -2.63390243e-01 -2.49088302e-01 -2.23134249e-01 -1.87715590e-01\n",
      " -1.48759529e-01 -1.08948633e-01 -7.72065818e-02 -4.82659675e-02\n",
      " -3.01724765e-02 -1.56391598e-02 -4.56443476e-03  0.00000000e+00\n",
      "  0.00000000e+00 -4.56442079e-03 -8.67984165e-03 -1.60202645e-02\n",
      " -2.28428710e-02 -4.93914597e-02 -7.84509853e-02 -1.16812266e-01\n",
      " -1.61357224e-01 -2.11248800e-01 -2.66084850e-01 -3.24382395e-01\n",
      " -3.89748752e-01 -4.50959682e-01 -4.98191357e-01 -5.23082912e-01\n",
      " -5.17756701e-01 -4.80624765e-01 -4.22952235e-01  1.39778292e+00\n",
      "  4.57402515e+00  3.88782907e+00 -1.56569839e-01 -1.07387155e-01\n",
      " -6.94213435e-02 -3.95771824e-02 -1.45517392e-02 -6.45164773e-03\n",
      "  0.00000000e+00  0.00000000e+00 -1.18336100e-02 -2.21633054e-02\n",
      " -5.12601398e-02 -9.02540535e-02 -1.40114278e-01 -1.97540939e-01\n",
      " -2.63565540e-01 -3.39090675e-01 -4.22034651e-01 -5.15594125e-01\n",
      " -6.15848958e-01 -7.16312051e-01 -7.94365227e-01 -8.35228503e-01\n",
      " -8.24298501e-01 -7.62086451e-01 -6.66096270e-01  1.59711111e+00\n",
      "  2.84123492e+00  2.94475937e+00 -2.60409504e-01 -1.89038858e-01\n",
      " -1.29817635e-01 -7.59637877e-02 -3.31373774e-02 -9.17792413e-03\n",
      "  0.00000000e+00 -6.22766418e-03 -1.58889368e-02 -3.47012766e-02\n",
      " -7.86550269e-02 -1.32756352e-01 -1.98648527e-01 -2.74426937e-01\n",
      " -3.61969739e-01 -4.62644637e-01 -5.76474249e-01 -7.00390279e-01\n",
      " -8.31052065e-01 -9.59874451e-01 -1.06030512e+00 -1.10718095e+00\n",
      " -1.08457983e+00 -9.98615980e-01 -3.09587717e-01  1.72545981e+00\n",
      "  2.14080667e+00  1.36521709e+00 -3.40387464e-01 -2.49604523e-01\n",
      " -1.72870442e-01 -1.04926817e-01 -4.91447113e-02 -1.57262143e-02\n",
      "  0.00000000e+00 -1.38191823e-02 -2.55237296e-02 -5.72772436e-02\n",
      " -1.11683063e-01 -1.77438691e-01 -2.57399231e-01 -3.49723399e-01\n",
      " -4.58514780e-01  1.18020749e+00  8.59123230e-01 -4.98631179e-01\n",
      " -1.02073300e+00 -1.13858187e+00 -1.20637095e+00 -1.23358011e+00\n",
      " -1.21172202e+00 -1.14626813e+00 -1.04661055e-01  1.46686518e+00\n",
      "  1.80428016e+00  1.60399914e-01 -3.98656517e-01 -2.89520025e-01\n",
      " -1.97716504e-01 -1.20753258e-01 -5.66207916e-02 -1.53927188e-02\n",
      "  0.00000000e+00 -1.82157662e-02 -4.18391563e-02 -8.33996907e-02\n",
      " -1.38461262e-01 -2.10700825e-01 -2.99511194e-01 -2.55176395e-01\n",
      "  1.43152726e+00  1.85175121e+00  1.50744021e+00 -6.49849176e-02\n",
      " -1.08124614e+00 -1.11220455e+00 -1.10938561e+00 -1.10602605e+00\n",
      " -1.10944998e+00 -1.10283399e+00  5.85623384e-02  1.38998675e+00\n",
      "  1.68104994e+00 -5.71790457e-01 -4.25058484e-01 -2.99435079e-01\n",
      " -1.97350726e-01 -1.19343296e-01 -5.42032085e-02 -1.39245605e-02\n",
      " -5.97268716e-03 -2.18539238e-02 -5.22648431e-02 -9.17893052e-02\n",
      " -1.49769723e-01 -2.26387188e-01 -3.23632061e-01  7.36613512e-01\n",
      "  2.10962868e+00  1.67176747e+00  1.38534534e+00 -8.17319393e-01\n",
      " -9.98236358e-01 -9.50497568e-01 -9.09415126e-01 -9.12937701e-01\n",
      " -9.54175234e-01 -1.00478351e+00  8.24884355e-01  1.39767659e+00\n",
      "  1.67359281e+00 -5.67855358e-01 -4.21059340e-01 -2.92405099e-01\n",
      " -1.81463137e-01 -1.04135066e-01 -4.67171557e-02 -1.28519218e-02\n",
      " -6.45421864e-03 -2.29608472e-02 -5.27195744e-02 -9.19664130e-02\n",
      " -1.46974802e-01 -2.27892235e-01  3.30040276e-01  2.70433807e+00\n",
      "  2.00465727e+00  1.59937572e+00 -2.69547105e-01 -9.33125556e-01\n",
      " -8.71311486e-01 -7.98121214e-01 -7.70812035e-01 -8.03453505e-01\n",
      " -8.74648333e-01 -7.61520922e-01  1.05378270e+00  1.46467614e+00\n",
      "  9.76391196e-01 -5.38926959e-01 -3.98838311e-01 -2.73640126e-01\n",
      " -1.60157636e-01 -8.10645521e-02 -3.58941033e-02 -1.09680416e-02\n",
      " -6.65909657e-03 -2.06425320e-02 -4.66141738e-02 -8.16588625e-02\n",
      " -1.37667716e-01 -2.26388976e-01  3.17014396e-01  2.58347344e+00\n",
      "  1.89651752e+00  1.34692132e+00 -4.44866240e-01 -8.73522997e-01\n",
      " -7.85596609e-01 -7.33334899e-01 -7.40896165e-01 -8.03579450e-01\n",
      " -9.03071284e-01 -9.78841722e-01  8.80996108e-01  1.51999235e+00\n",
      "  1.88787341e+00 -5.01592994e-01 -3.71678472e-01 -2.60518372e-01\n",
      " -1.50781304e-01 -6.19821660e-02 -2.64840815e-02 -1.00232800e-02\n",
      " -4.56443056e-03 -1.53691974e-02 -3.66066210e-02 -6.91998824e-02\n",
      " -1.27961472e-01  4.99056220e-01  3.25348783e+00  2.45315957e+00\n",
      "  1.80456901e+00 -8.13890100e-02 -8.90576184e-01 -8.43087614e-01\n",
      " -7.66236901e-01 -7.70732224e-01 -8.21211159e-01 -9.18275177e-01\n",
      " -1.03271711e+00 -6.03327811e-01  1.30906808e+00  1.59208798e+00\n",
      "  2.04339743e+00 -4.73288924e-01 -3.58187854e-01 -2.57201940e-01\n",
      " -1.54027164e-01 -5.32278568e-02 -2.07513850e-02 -1.10932468e-02\n",
      " -4.56441334e-03 -1.13667073e-02 -2.60845833e-02 -5.72308041e-02\n",
      " -1.25505105e-01  2.70665002e+00  3.31132889e+00  2.29916525e+00\n",
      "  5.50326765e-01 -8.40969205e-01 -8.81391168e-01 -8.40842009e-01\n",
      " -8.16538572e-01 -8.91835153e-01 -9.77635384e-01 -1.11021304e+00\n",
      " -1.18235564e+00 -6.76646829e-01  1.28481686e+00  1.63820493e+00\n",
      "  1.68262899e+00 -4.63694602e-01 -3.58170062e-01 -2.65320241e-01\n",
      " -1.63937256e-01 -5.93807623e-02 -2.29646191e-02 -8.27832241e-03\n",
      "  0.00000000e+00 -8.93129595e-03 -1.86236966e-02 -5.09484299e-02\n",
      "  2.49035048e+00  5.03615189e+00  3.10591650e+00  1.88585711e+00\n",
      " -5.17918050e-01 -8.28677833e-01 -8.69196534e-01 -8.60287786e-01\n",
      " -9.00310159e-01 -1.03078556e+00 -1.14051020e+00 -1.27374649e+00\n",
      " -1.24815083e+00 -6.85393572e-01  1.31363177e+00  1.66810262e+00\n",
      "  1.00346744e+00 -4.75164145e-01 -3.71337742e-01 -2.74865597e-01\n",
      " -1.72649667e-01 -6.93400502e-02 -2.47047972e-02 -7.80941173e-03\n",
      " -4.56441613e-03 -4.68396163e-03 -1.92993749e-02 -5.33942953e-02\n",
      "  5.40879488e+00  4.56649160e+00  2.93031192e+00  3.19452733e-01\n",
      " -6.92766309e-01 -7.93824434e-01 -8.65402222e-02  7.36997351e-02\n",
      "  3.40814710e-01 -1.84587300e-01 -2.96304494e-01 -8.99204671e-01\n",
      " -1.18319988e+00 -6.25225842e-01  1.37119985e+00  1.67201519e+00\n",
      "  9.62994933e-01 -4.89816993e-01 -3.83184761e-01 -2.79389203e-01\n",
      " -1.75017104e-01 -7.65736476e-02 -3.06823701e-02 -1.01856571e-02\n",
      " -4.56442172e-03 -7.49897491e-03 -2.15297062e-02  9.79233563e-01\n",
      "  7.26630020e+00  4.25107145e+00  2.85060525e+00  1.55896819e+00\n",
      "  1.65415084e+00  1.67449248e+00  1.59049606e+00  1.53160024e+00\n",
      "  1.37998044e+00  1.22603536e+00  1.12591529e+00  1.13695264e+00\n",
      "  8.70450959e-02 -2.62568593e-01  1.36207616e+00  1.69559026e+00\n",
      "  9.35118496e-01 -4.96099561e-01 -3.81160527e-01 -2.72939175e-01\n",
      " -1.72418281e-01 -8.35417733e-02 -3.47728841e-02 -9.99488868e-03\n",
      "  0.00000000e+00 -9.98649374e-03 -2.60820501e-02  3.82200718e+00\n",
      "  7.30460501e+00  3.96351433e+00  2.79854441e+00  2.27085996e+00\n",
      "  1.95949697e+00  1.80887997e+00  1.32747269e+00  6.66573346e-01\n",
      "  5.69213748e-01 -4.64443237e-01  1.66351005e-01  1.22904181e+00\n",
      "  1.25470996e+00  1.25887835e+00  1.38762522e+00  1.67736650e+00\n",
      "  9.39960718e-01 -4.87720698e-01 -3.68816495e-01 -2.60287493e-01\n",
      " -1.67521432e-01 -8.81202891e-02 -3.55135202e-02 -1.01469224e-02\n",
      " -4.56443988e-03 -6.84649590e-03 -3.40001322e-02  1.16529584e+00\n",
      "  5.08028555e+00  3.76606059e+00  2.74535441e+00  1.49403656e+00\n",
      "  4.51450586e-01 -2.51452655e-01 -6.98841453e-01 -7.29384243e-01\n",
      " -7.77908087e-01 -8.68383944e-01 -9.55906749e-01 -8.22722018e-01\n",
      "  2.75477231e-01  9.84204292e-01  1.45764756e+00  1.68704796e+00\n",
      "  7.74335206e-01 -4.65221554e-01 -3.48991811e-01 -2.46201277e-01\n",
      " -1.57795638e-01 -8.49559456e-02 -3.10725141e-02 -9.40127112e-03\n",
      "  0.00000000e+00 -1.01165865e-02 -4.01110202e-02 -1.03867956e-01\n",
      "  2.70552397e-01  4.38555330e-01  1.62896603e-01 -5.52893341e-01\n",
      " -6.34130120e-01 -6.94372177e-01 -7.39438295e-01 -7.70487726e-01\n",
      " -8.27363789e-01 -9.17697847e-01 -1.00898266e+00 -1.06167603e+00\n",
      " -1.04960835e+00 -5.11488557e-01  1.45922530e+00  1.76171815e+00\n",
      " -1.10810902e-02 -4.27689880e-01 -3.17206085e-01 -2.21449181e-01\n",
      " -1.41255215e-01 -7.61644542e-02 -2.79780161e-02 -8.97313002e-03\n",
      "  0.00000000e+00 -9.48325545e-03 -4.39192951e-02 -1.10302724e-01\n",
      " -2.10309848e-01 -3.30851465e-01 -4.54726309e-01 -5.69775879e-01\n",
      " -6.74481273e-01 -7.62330115e-01 -8.29968154e-01 -8.86509776e-01\n",
      " -9.59752142e-01 -1.05255628e+00 -1.12393343e+00 -1.13177478e+00\n",
      " -1.06391919e+00 -4.80491638e-01  1.58221281e+00  1.97850049e+00\n",
      "  1.05638437e-01 -3.68707538e-01 -2.70120740e-01 -1.87881187e-01\n",
      " -1.21402420e-01 -6.45437911e-02 -2.55539939e-02 -6.45478908e-03\n",
      " -4.56440728e-03 -9.50660836e-03 -4.11948189e-02 -1.01266414e-01\n",
      " -1.88324511e-01 -2.99984306e-01 -4.27180260e-01 -5.56857824e-01\n",
      " -6.84709251e-01 -8.05127084e-01 -9.10814047e-01 -1.01167738e+00\n",
      " -1.10653663e+00 -1.18450916e+00 -1.19530952e+00 -1.12574792e+00\n",
      " -9.95837212e-01  3.93538713e-01  1.85208166e+00  2.37388062e+00\n",
      "  2.98723400e-01 -2.96565920e-01 -2.13061541e-01 -1.49187028e-01\n",
      " -9.76561531e-02 -5.03338464e-02 -1.89365353e-02 -4.56442870e-03\n",
      " -4.56440728e-03 -6.28991937e-03 -3.55126224e-02 -8.06920975e-02\n",
      " -1.47961915e-01 -2.43304253e-01 -3.60501647e-01 -4.87868518e-01\n",
      " -6.24469876e-01 -7.57654548e-01 -8.90148580e-01 -1.00397062e+00\n",
      " -1.09116864e+00 -1.11865902e+00 -1.07519257e+00 -9.63514686e-01\n",
      " -8.18421245e-01  6.62715077e-01  2.39700365e+00  3.16725755e+00\n",
      "  5.93471348e-01 -2.21682101e-01 -1.59437791e-01 -1.10653259e-01\n",
      " -7.08687976e-02 -3.61787789e-02 -1.14047118e-02 -4.56442684e-03\n",
      "  0.00000000e+00  0.00000000e+00 -2.39500031e-02 -5.18068448e-02\n",
      " -9.97769609e-02 -1.67633459e-01 -2.59609342e-01 -3.70591581e-01\n",
      " -4.91160095e-01 -6.16827667e-01 -7.40023613e-01 -8.44210446e-01\n",
      " -9.01621282e-01 -8.99313509e-01 -8.38743567e-01 -7.35176682e-01\n",
      " -6.14168584e-01  1.29915386e-01  3.37379384e+00  2.57790971e+00\n",
      "  5.36216557e-01 -1.53751194e-01 -1.09054171e-01 -7.44409561e-02\n",
      " -4.41064164e-02 -1.89584140e-02 -9.97779053e-03  0.00000000e+00\n",
      "  0.00000000e+00  0.00000000e+00 -9.71941743e-03 -2.82164477e-02\n",
      " -5.69312386e-02 -9.51154456e-02 -1.54149488e-01 -2.23853111e-01\n",
      " -3.04387331e-01 -3.89819592e-01 -4.71809477e-01 -5.34049332e-01\n",
      " -5.66136539e-01 -5.62353492e-01 -5.27445734e-01 -4.69121158e-01\n",
      " -3.97983372e-01 -3.26061219e-01 -2.55487829e-01 -1.95785880e-01\n",
      " -1.45564422e-01 -1.02718256e-01 -7.11601898e-02 -4.83786725e-02\n",
      " -2.62420867e-02 -1.27228582e-02 -5.31390542e-03  0.00000000e+00\n",
      "  0.00000000e+00  0.00000000e+00 -7.45095592e-03 -1.15006156e-02\n",
      " -2.72976644e-02 -5.18236980e-02 -8.73491019e-02 -1.29686058e-01\n",
      " -1.76227644e-01 -2.23763838e-01 -2.67278016e-01 -2.94962853e-01\n",
      " -3.07166189e-01 -3.05118084e-01 -2.89392889e-01 -2.63434708e-01\n",
      " -2.33932316e-01 -2.00166926e-01 -1.62789494e-01 -1.28550321e-01\n",
      " -9.49271843e-02 -6.65855110e-02 -4.60576229e-02 -3.05415913e-02\n",
      " -1.60627495e-02 -6.34526322e-03 -4.56441194e-03  0.00000000e+00\n",
      "  0.00000000e+00  0.00000000e+00  0.00000000e+00  0.00000000e+00\n",
      " -1.38185453e-02 -3.05490158e-02 -5.38718887e-02 -7.99152553e-02\n",
      " -1.08914673e-01 -1.33739501e-01 -1.56459838e-01 -1.74297094e-01\n",
      " -1.82006180e-01 -1.80963427e-01 -1.69458747e-01 -1.52074650e-01\n",
      " -1.34674340e-01 -1.14038214e-01 -9.11557823e-02 -7.02119917e-02\n",
      " -5.17182797e-02 -3.69186513e-02 -2.22151112e-02 -1.33925937e-02\n",
      " -5.02470508e-03 -4.56442218e-03  0.00000000e+00  0.00000000e+00\n",
      "  0.00000000e+00  0.00000000e+00  0.00000000e+00  0.00000000e+00\n",
      " -6.47365721e-03 -9.59351473e-03 -1.65404398e-02 -2.25292649e-02\n",
      " -2.77728345e-02 -3.26962583e-02 -4.46940176e-02 -4.81236912e-02\n",
      " -5.24700806e-02 -5.67069389e-02 -5.96366301e-02 -5.51058017e-02\n",
      " -5.04880324e-02 -4.10705805e-02 -3.14234011e-02 -2.21495945e-02\n",
      " -1.58812180e-02 -1.08887739e-02 -8.48493073e-03 -4.56442125e-03\n",
      "  0.00000000e+00  0.00000000e+00  0.00000000e+00  0.00000000e+00], shape=(784,), dtype=float32)\n"
     ]
    }
   ],
   "source": [
    "print(x_train_scaled[0])"
   ]
  },
  {
   "cell_type": "markdown",
   "id": "90b15174-68df-4cc0-98fc-2b2de2104ed9",
   "metadata": {},
   "source": [
    "6) <strong>Build multiple models</strong>"
   ]
  },
  {
   "cell_type": "code",
   "execution_count": 461,
   "id": "6f0db8fd-6f3e-4296-9e24-0fd802e913a7",
   "metadata": {},
   "outputs": [],
   "source": [
    "from tensorflow.keras.models import Sequential\n",
    "from tensorflow.keras.layers import Dense\n",
    "\n",
    "def build_models():\n",
    "    model1 = Sequential([\n",
    "        Dense(units=25, activation='relu'),\n",
    "        Dense(units=15, activation='relu'),\n",
    "        Dense(units=10, activation='linear')\n",
    "    ], name='model_1')\n",
    "    \n",
    "    model2 = Sequential([\n",
    "        Dense(units=30, activation='relu'),\n",
    "        Dense(units=10, activation='linear')\n",
    "    ], name='model_2')\n",
    "\n",
    "    model3 = Sequential([\n",
    "        Dense(units=50, activation='relu'),\n",
    "        Dense(units=25, activation='relu'),\n",
    "        Dense(units=15, activation='relu'),\n",
    "        Dense(units=10, activation='linear')\n",
    "    ], name='model_3')\n",
    "\n",
    "    model4 = Sequential([\n",
    "        Dense(units=25, activation='relu'),\n",
    "        Dense(units=15, activation='relu'),\n",
    "        Dense(units=20, activation='relu'),\n",
    "        Dense(units=10, activation='linear')\n",
    "    ], name='model_4')\n",
    "\n",
    "    return [model1, model2, model3, model4]"
   ]
  },
  {
   "cell_type": "markdown",
   "id": "9503dbd6-95d3-4aad-b0d5-d2818eb93e7e",
   "metadata": {},
   "source": [
    "7) <strong>Choose a good model</strong>"
   ]
  },
  {
   "cell_type": "code",
   "execution_count": 462,
   "id": "8b24900a-95e3-48fd-ae52-f07e9c32b2c9",
   "metadata": {},
   "outputs": [
    {
     "name": "stderr",
     "output_type": "stream",
     "text": [
      "WARNING:absl:At this time, the v2.11+ optimizer `tf.keras.optimizers.Adam` runs slowly on M1/M2 Macs, please use the legacy Keras optimizer instead, located at `tf.keras.optimizers.legacy.Adam`.\n",
      "WARNING:absl:There is a known slowdown when using v2.11+ Keras optimizers on M1/M2 Macs. Falling back to the legacy Keras optimizer, i.e., `tf.keras.optimizers.legacy.Adam`.\n"
     ]
    },
    {
     "name": "stdout",
     "output_type": "stream",
     "text": [
      "Training model_1\n",
      "Done!\n"
     ]
    },
    {
     "name": "stderr",
     "output_type": "stream",
     "text": [
      "WARNING:absl:At this time, the v2.11+ optimizer `tf.keras.optimizers.Adam` runs slowly on M1/M2 Macs, please use the legacy Keras optimizer instead, located at `tf.keras.optimizers.legacy.Adam`.\n",
      "WARNING:absl:There is a known slowdown when using v2.11+ Keras optimizers on M1/M2 Macs. Falling back to the legacy Keras optimizer, i.e., `tf.keras.optimizers.legacy.Adam`.\n"
     ]
    },
    {
     "name": "stdout",
     "output_type": "stream",
     "text": [
      "Training model_2\n",
      "Done!\n"
     ]
    },
    {
     "name": "stderr",
     "output_type": "stream",
     "text": [
      "WARNING:absl:At this time, the v2.11+ optimizer `tf.keras.optimizers.Adam` runs slowly on M1/M2 Macs, please use the legacy Keras optimizer instead, located at `tf.keras.optimizers.legacy.Adam`.\n",
      "WARNING:absl:There is a known slowdown when using v2.11+ Keras optimizers on M1/M2 Macs. Falling back to the legacy Keras optimizer, i.e., `tf.keras.optimizers.legacy.Adam`.\n"
     ]
    },
    {
     "name": "stdout",
     "output_type": "stream",
     "text": [
      "Training model_3\n",
      "Done!\n"
     ]
    },
    {
     "name": "stderr",
     "output_type": "stream",
     "text": [
      "WARNING:absl:At this time, the v2.11+ optimizer `tf.keras.optimizers.Adam` runs slowly on M1/M2 Macs, please use the legacy Keras optimizer instead, located at `tf.keras.optimizers.legacy.Adam`.\n",
      "WARNING:absl:There is a known slowdown when using v2.11+ Keras optimizers on M1/M2 Macs. Falling back to the legacy Keras optimizer, i.e., `tf.keras.optimizers.legacy.Adam`.\n"
     ]
    },
    {
     "name": "stdout",
     "output_type": "stream",
     "text": [
      "Training model_4\n",
      "Done!\n",
      "Model 1: Training Accuracy: 98.838%, Validation Accuracy: 95.200%\n",
      "Model 2: Training Accuracy: 98.754%, Validation Accuracy: 95.300%\n",
      "Model 3: Training Accuracy: 99.398%, Validation Accuracy: 96.492%\n",
      "Model 4: Training Accuracy: 98.558%, Validation Accuracy: 95.400%\n"
     ]
    }
   ],
   "source": [
    "from tensorflow.keras.losses import SparseCategoricalCrossentropy\n",
    "from tensorflow.keras.optimizers import Adam\n",
    "import numpy as np\n",
    "\n",
    "# Initialize lists that will contain the train accuracy, validation accuracy, and history for each model\n",
    "train_acc = []\n",
    "val_acc = []\n",
    "history = []\n",
    "\n",
    "# Build the models\n",
    "models = build_models()\n",
    "\n",
    "for model in models:\n",
    "    \n",
    "    model.compile(\n",
    "        loss=SparseCategoricalCrossentropy(from_logits=True),\n",
    "        optimizer=Adam(0.003)\n",
    "    )\n",
    "    \n",
    "    print(f\"Training {model.name}\")\n",
    "    model_history = model.fit(x_train_scaled, y_train, epochs=25, verbose=0)\n",
    "    history.append(model_history)\n",
    "    print(\"Done!\")\n",
    "\n",
    "    # Training accuracy\n",
    "    yhat = model.predict(x_train_scaled, verbose=0)\n",
    "    yhat = np.argmax(yhat, axis=-1)\n",
    "    model_train_acc = (np.sum(yhat == y_train) / len(y_train)) * 100\n",
    "    train_acc.append(model_train_acc)\n",
    "\n",
    "    # Validation accuracy\n",
    "    yhat = model.predict(x_val_scaled, verbose=0)\n",
    "    yhat = np.argmax(yhat, axis=-1)\n",
    "    model_val_acc = (np.sum(yhat == y_val) / len(y_val)) * 100\n",
    "    val_acc.append(model_val_acc)\n",
    "\n",
    "\n",
    "# Print the result\n",
    "for i in range(len(models)):\n",
    "    print(f\"Model {i+1}: Training Accuracy: {train_acc[i]:.3f}%, Validation Accuracy: {val_acc[i]:.3f}%\")"
   ]
  },
  {
   "cell_type": "code",
   "execution_count": 463,
   "id": "0bb60806-4f19-455c-8239-d808fa51cff6",
   "metadata": {},
   "outputs": [
    {
     "data": {
      "image/png": "[encoded data removed]",
      "text/plain": [
       "<Figure size 640x480 with 1 Axes>"
      ]
     },
     "metadata": {},
     "output_type": "display_data"
    }
   ],
   "source": [
    "# Best model: model_3\n",
    "model = models[2]\n",
    "plt.plot(history[2].history['loss'])\n",
    "plt.show()"
   ]
  },
  {
   "cell_type": "markdown",
   "id": "2f8eafe1-7959-47e9-aca2-76bbbc38cccf",
   "metadata": {},
   "source": [
    "8) <strong>Accuracy on test set</strong>"
   ]
  },
  {
   "cell_type": "code",
   "execution_count": 464,
   "id": "37e85f1e-a504-41bd-a9d2-b97de2a9c6e3",
   "metadata": {},
   "outputs": [
    {
     "name": "stdout",
     "output_type": "stream",
     "text": [
      "Test Accuracy:  96.820000%\n"
     ]
    }
   ],
   "source": [
    "# Flatten the last two dimensions\n",
    "x_test = x_test.reshape((x_test.shape[0], -1))\n",
    "\n",
    "# Feature scaling\n",
    "x_test_scaled = norm_l(x_test)\n",
    "\n",
    "# Calculate accuracy\n",
    "yhat = model.predict(x_test_scaled, verbose=0)\n",
    "yhat = np.argmax(yhat, axis=-1)\n",
    "test_acc = (np.sum(yhat == y_test) / len(y_test)) * 100\n",
    "print(f\"Test Accuracy: {test_acc: 3f}%\")"
   ]
  },
  {
   "cell_type": "code",
   "execution_count": 465,
   "id": "a2dfff8b-b92f-464b-8309-b1a7efb1286b",
   "metadata": {},
   "outputs": [
    {
     "data": {
      "image/png": "[encoded data removed]",
      "text/plain": [
       "<Figure size 500x500 with 64 Axes>"
      ]
     },
     "metadata": {},
     "output_type": "display_data"
    }
   ],
   "source": [
    "# Plot a random set of 64 images from the test set, along with their predicted label and true label\n",
    "\n",
    "import warnings\n",
    "warnings.simplefilter(action='ignore', category=FutureWarning)\n",
    "# You do not need to modify anything in this cell\n",
    "\n",
    "m, n = x_test.shape\n",
    "\n",
    "fig, axes = plt.subplots(8,8, figsize=(5,5))\n",
    "fig.tight_layout(pad=0.13,rect=[0, 0.03, 1, 0.91]) #[left, bottom, right, top]\n",
    "# widgvis(fig)\n",
    "for i,ax in enumerate(axes.flat):\n",
    "    # Select random indices\n",
    "    random_index = np.random.randint(m)\n",
    "    \n",
    "    # Select rows corresponding to the random indices and\n",
    "    # reshape the image\n",
    "    x_random_reshaped = x_test[random_index].reshape((28,28))\n",
    "    \n",
    "    # Display the image\n",
    "    ax.imshow(x_random_reshaped, cmap='gray')\n",
    "    \n",
    "    # Predict using the Neural Network\n",
    "    prediction = model.predict(x_test[random_index].reshape(1,784), verbose=0)\n",
    "    yhat = np.argmax(prediction)\n",
    "    \n",
    "    # Display the label above the image\n",
    "    ax.set_title(f\"{y_test[random_index]},{yhat}\",fontsize=10)\n",
    "    ax.set_axis_off()\n",
    "fig.suptitle(\"Label, yhat\", fontsize=14)\n",
    "plt.show()"
   ]
  },
  {
   "cell_type": "code",
   "execution_count": 484,
   "id": "d3244ee3-59c1-4ceb-a7c8-4afc42c76264",
   "metadata": {},
   "outputs": [
    {
     "name": "stdout",
     "output_type": "stream",
     "text": [
      "Label: 6\n",
      "Model Prediction: 6\n"
     ]
    },
    {
     "data": {
      "image/png": "[encoded data removed]",
      "text/plain": [
       "<Figure size 640x480 with 1 Axes>"
      ]
     },
     "metadata": {},
     "output_type": "display_data"
    }
   ],
   "source": [
    "# For Demonstration\n",
    "\n",
    "m = len(y_test)\n",
    "random_index = np.random.randint(m)\n",
    "x_random_reshaped = x_test[random_index].reshape((28, 28))\n",
    "\n",
    "label = y_test[random_index]\n",
    "\n",
    "prediction = model.predict(x_test[random_index].reshape((1, 784)), verbose=0)\n",
    "yhat = np.argmax(prediction)\n",
    "\n",
    "plt.imshow(x_random_reshaped, cmap=\"gray\")\n",
    "print(f\"Label: {label}\")\n",
    "print(f\"Model Prediction: {yhat}\")"
   ]
  },
  {
   "cell_type": "code",
   "execution_count": null,
   "id": "b8aabd53-7302-4756-9cd7-113a4e4ccb24",
   "metadata": {},
   "outputs": [],
   "source": []
  }
 ],
 "metadata": {
  "kernelspec": {
   "display_name": "Python 3 (ipykernel)",
   "language": "python",
   "name": "python3"
  },
  "language_info": {
   "codemirror_mode": {
    "name": "ipython",
    "version": 3
   },
   "file_extension": ".py",
   "mimetype": "text/x-python",
   "name": "python",
   "nbconvert_exporter": "python",
   "pygments_lexer": "ipython3",
   "version": "3.10.13"
  }
 },
 "nbformat": 4,
 "nbformat_minor": 5
}
